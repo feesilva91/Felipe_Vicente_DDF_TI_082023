{
  "nbformat": 4,
  "nbformat_minor": 0,
  "metadata": {
    "colab": {
      "provenance": [],
      "authorship_tag": "ABX9TyO3sDI6yqgr6f+m9zuihavF",
      "include_colab_link": true
    },
    "kernelspec": {
      "name": "python3",
      "display_name": "Python 3"
    },
    "language_info": {
      "name": "python"
    }
  },
  "cells": [
    {
      "cell_type": "markdown",
      "metadata": {
        "id": "view-in-github",
        "colab_type": "text"
      },
      "source": [
        "<a href=\"https://colab.research.google.com/github/feesilva91/Felipe_Vicente_DDF_TI_082023/blob/main/Query_SQL_Dadosfera.ipynb\" target=\"_parent\"><img src=\"https://colab.research.google.com/assets/colab-badge.svg\" alt=\"Open In Colab\"/></a>"
      ]
    },
    {
      "cell_type": "code",
      "execution_count": 3,
      "metadata": {
        "colab": {
          "base_uri": "https://localhost:8080/",
          "height": 143
        },
        "id": "BDpsIIJFDTNN",
        "outputId": "20956b5a-851d-4beb-a9b9-7fd0ac02b454"
      },
      "outputs": [
        {
          "output_type": "error",
          "ename": "SyntaxError",
          "evalue": "ignored",
          "traceback": [
            "\u001b[0;36m  File \u001b[0;32m\"<ipython-input-3-83fbdfcf4234>\"\u001b[0;36m, line \u001b[0;32m1\u001b[0m\n\u001b[0;31m    SELECT * FROM users_emails #a função SELECT irá selecionar todas as colunas da tabela users_emails e o FROM seleciona a tabela que queremos\u001b[0m\n\u001b[0m                  ^\u001b[0m\n\u001b[0;31mSyntaxError\u001b[0m\u001b[0;31m:\u001b[0m invalid syntax\n"
          ]
        }
      ],
      "source": [
        "SELECT * FROM users_emails #a função SELECT irá selecionar todas as colunas da tabela users_emails e o FROM seleciona a tabela que queremos\n",
        "WHERE #a função WHERE filtra os resultados que declaramos a partir da condição que definimos\n",
        "data_cadastro >= DATE_SUB(CURRENT_DATE(), INTERVAL 30 DAY); #É a coluna na tabela \"users_emails\" que armazena a data de cadastro.\n",
        "    DATE_SUB(CURRENT_DATE(), INTERVAL 30 DAY): #Essa parte calcula a data atual menos 30 dias.\n",
        "    #CURRENT_DATE() retorna a data atual, e DATE_SUB() subtrai um intervalo de tempo (30 dias, neste caso) dessa data atual, resultando na data limite dos últimos 30 dias.\n",
        "\n",
        "\n"
      ]
    },
    {
      "cell_type": "code",
      "source": [],
      "metadata": {
        "id": "Zn2NsCZWQaGe"
      },
      "execution_count": null,
      "outputs": []
    }
  ]
}